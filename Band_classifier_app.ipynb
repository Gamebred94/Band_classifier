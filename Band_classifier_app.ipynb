{
  "cells": [
    {
      "cell_type": "markdown",
      "metadata": {
        "id": "7H7OyyD3-F0Y"
      },
      "source": [
        "# Classic rock bands classifier!\n",
        "\n",
        "<img src=\"classic.jpg\" width=\"500\"/>\n",
        "\n",
        "### Welcome to your favourite classic rock band classifier app\n",
        "This is a WIP and currently classifies only the below bands:\n",
        "\n",
        "- Led zepplin, Pink floyd, Metallica, The doors, The who\n",
        "- The rolling stones, AC-DC, GUNS N ROSES, THE ALLMAN BROTHERS\n",
        "- The beatles, Aerosmith, Fleetwood Mac, Van Halen\n",
        "\n",
        "**Please give it a go!** \n",
        "\n",
        "--- \n",
        "<br>"
      ]
    },
    {
      "cell_type": "code",
      "execution_count": 2,
      "metadata": {
        "colab": {
          "base_uri": "https://localhost:8080/"
        },
        "id": "BLq4tAXe5IfA",
        "outputId": "86497e4d-56de-4d50-bce3-496eaaac4939"
      },
      "outputs": [],
      "source": [
        "from fastai.vision.all import *\n",
        "from fastai.vision.widgets import *"
      ]
    },
    {
      "cell_type": "code",
      "execution_count": 5,
      "metadata": {
        "id": "ikvCRE8p47p9"
      },
      "outputs": [],
      "source": [
        "path = Path()\n",
        "learner = load_learner(path/'Band_classifier.pkl')"
      ]
    },
    {
      "cell_type": "code",
      "execution_count": 6,
      "metadata": {
        "id": "ZbBqApVH52Js"
      },
      "outputs": [],
      "source": [
        "btn_upload = widgets.FileUpload()\n",
        "out_pl = widgets.Output()\n",
        "lbl_pred = widgets.Label()\n",
        "btn_run = widgets.Button(description='Classify')"
      ]
    },
    {
      "cell_type": "code",
      "execution_count": 7,
      "metadata": {
        "id": "mxYcxwvK6wvB"
      },
      "outputs": [],
      "source": [
        "def on_click_classify(change):\n",
        "    img = PILImage.create(btn_upload.data[0])\n",
        "    out_pl.clear_output()\n",
        "    with out_pl: display(img.to_thumb(224,224))\n",
        "    pred,pred_idx,probs = learner.predict(img)\n",
        "    lbl_pred.value = f\"Prediction: {pred}; Probability: {probs[pred_idx]: .04f}\""
      ]
    },
    {
      "cell_type": "code",
      "execution_count": 8,
      "metadata": {
        "id": "465HK1Rz60OB"
      },
      "outputs": [],
      "source": [
        "btn_run.on_click(on_click_classify)\n",
        "#btn_upload.observe(on_data_change, names=['data'])"
      ]
    },
    {
      "cell_type": "code",
      "execution_count": 17,
      "metadata": {
        "colab": {
          "base_uri": "https://localhost:8080/",
          "height": 294,
          "referenced_widgets": [
            "03b39ea380d44dfa85127cc62c5eda44",
            "565b167395544a4c80ec84ff02153f85",
            "16a6a825785f41d0bfa3a54a75ec15d9",
            "0f5dc17e519d47c2bfcc5de889d8684b",
            "981ad97b67894ace87f2c096146343ff",
            "335d3c7e6f684dc28df0a1bc3ce434c4",
            "fe8e289d83b240f698782b4612b80df2",
            "cde46c86c6d64642bd865a7f582c700b",
            "de2c33181c294ab08d9ad7edffa0239f",
            "1d69e089abd146bf9f05fbda92d5f6fa",
            "8946dc73a300472d999272c3e11195f7",
            "c9cff9cfec2a4daaa58637616b9a4927",
            "831f65f840334da4a9e2b7a4f62acdfb",
            "e8675e38dd484afb9cc781197c7ac9aa",
            "65652e27f29f49a38bec07b5bde7dc12",
            "8ad83b9ea4624786a14adf9ec4d40091"
          ]
        },
        "id": "VH2XItMO7Dp3",
        "outputId": "1571fcad-ba27-4b8c-cd21-43b1056b650b"
      },
      "outputs": [
        {
          "data": {
            "application/vnd.jupyter.widget-view+json": {
              "model_id": "3e8e61a28faa4f2da809f5461285051f",
              "version_major": 2,
              "version_minor": 0
            },
            "text/plain": [
              "VBox(children=(Label(value='Upload image and classify!'), FileUpload(value={}, description='Upload'), Button(d…"
            ]
          },
          "metadata": {},
          "output_type": "display_data"
        }
      ],
      "source": [
        "VBox([widgets.Label(\"Upload image and classify!\"), \n",
        "      btn_upload,\n",
        "      btn_run,\n",
        "      out_pl,\n",
        "      lbl_pred\n",
        "      ])"
      ]
    }
  ],
  "metadata": {
    "colab": {
      "collapsed_sections": [],
      "name": "Band_classifier_app.ipynb",
      "provenance": []
    },
    "kernelspec": {
      "display_name": "Python 3",
      "name": "python3"
    },
    "language_info": {
      "codemirror_mode": {
        "name": "ipython",
        "version": 3
      },
      "file_extension": ".py",
      "mimetype": "text/x-python",
      "name": "python",
      "nbconvert_exporter": "python",
      "pygments_lexer": "ipython3",
      "version": "3.8.5"
    },
    "widgets": {
      "application/vnd.jupyter.widget-state+json": {
        "03b39ea380d44dfa85127cc62c5eda44": {
          "model_module": "@jupyter-widgets/controls",
          "model_module_version": "1.5.0",
          "model_name": "VBoxModel",
          "state": {
            "_dom_classes": [],
            "_model_module": "@jupyter-widgets/controls",
            "_model_module_version": "1.5.0",
            "_model_name": "VBoxModel",
            "_view_count": null,
            "_view_module": "@jupyter-widgets/controls",
            "_view_module_version": "1.5.0",
            "_view_name": "VBoxView",
            "box_style": "",
            "children": [
              "IPY_MODEL_16a6a825785f41d0bfa3a54a75ec15d9",
              "IPY_MODEL_0f5dc17e519d47c2bfcc5de889d8684b",
              "IPY_MODEL_981ad97b67894ace87f2c096146343ff",
              "IPY_MODEL_335d3c7e6f684dc28df0a1bc3ce434c4",
              "IPY_MODEL_fe8e289d83b240f698782b4612b80df2"
            ],
            "layout": "IPY_MODEL_565b167395544a4c80ec84ff02153f85"
          }
        },
        "0f5dc17e519d47c2bfcc5de889d8684b": {
          "model_module": "@jupyter-widgets/controls",
          "model_module_version": "1.5.0",
          "model_name": "FileUploadModel",
          "state": {
            "_counter": 2,
            "_dom_classes": [],
            "_model_module": "@jupyter-widgets/controls",
            "_model_module_version": "1.5.0",
            "_model_name": "FileUploadModel",
            "_view_count": null,
            "_view_module": "@jupyter-widgets/controls",
            "_view_module_version": "1.5.0",
            "_view_name": "FileUploadView",
            "accept": "",
            "button_style": "",
            "data": [
              null
            ],
            "description": "Upload",
            "description_tooltip": null,
            "disabled": false,
            "error": "",
            "icon": "upload",
            "layout": "IPY_MODEL_8946dc73a300472d999272c3e11195f7",
            "metadata": [
              {
                "lastModified": 1643251497625,
                "name": "metallica-members-stand-together-onstage-august-2017.jpg",
                "size": 401078,
                "type": "image/jpeg"
              }
            ],
            "multiple": false,
            "style": "IPY_MODEL_1d69e089abd146bf9f05fbda92d5f6fa"
          }
        },
        "16a6a825785f41d0bfa3a54a75ec15d9": {
          "model_module": "@jupyter-widgets/controls",
          "model_module_version": "1.5.0",
          "model_name": "LabelModel",
          "state": {
            "_dom_classes": [],
            "_model_module": "@jupyter-widgets/controls",
            "_model_module_version": "1.5.0",
            "_model_name": "LabelModel",
            "_view_count": null,
            "_view_module": "@jupyter-widgets/controls",
            "_view_module_version": "1.5.0",
            "_view_name": "LabelView",
            "description": "",
            "description_tooltip": null,
            "layout": "IPY_MODEL_de2c33181c294ab08d9ad7edffa0239f",
            "placeholder": "​",
            "style": "IPY_MODEL_cde46c86c6d64642bd865a7f582c700b",
            "value": "Upload images from the list of bands : ['led zepplin', 'pink floyd', 'metallica', 'the doors', 'the who', 'the rolling stones', 'AC-DC', 'GUNS N ROSES', 'THE ALLMAN BROTHERS', 'The beatles', 'aerosmith', 'Fleetwood Mac', 'Van Halen']"
          }
        },
        "1d69e089abd146bf9f05fbda92d5f6fa": {
          "model_module": "@jupyter-widgets/controls",
          "model_module_version": "1.5.0",
          "model_name": "ButtonStyleModel",
          "state": {
            "_model_module": "@jupyter-widgets/controls",
            "_model_module_version": "1.5.0",
            "_model_name": "ButtonStyleModel",
            "_view_count": null,
            "_view_module": "@jupyter-widgets/base",
            "_view_module_version": "1.2.0",
            "_view_name": "StyleView",
            "button_color": null,
            "font_weight": ""
          }
        },
        "335d3c7e6f684dc28df0a1bc3ce434c4": {
          "model_module": "@jupyter-widgets/output",
          "model_module_version": "1.0.0",
          "model_name": "OutputModel",
          "state": {
            "_dom_classes": [],
            "_model_module": "@jupyter-widgets/output",
            "_model_module_version": "1.0.0",
            "_model_name": "OutputModel",
            "_view_count": null,
            "_view_module": "@jupyter-widgets/output",
            "_view_module_version": "1.0.0",
            "_view_name": "OutputView",
            "layout": "IPY_MODEL_8ad83b9ea4624786a14adf9ec4d40091",
            "msg_id": "",
            "outputs": [
              {
                "data": {
                  "image/png": "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\n",
                  "text/plain": "<PIL.Image.Image image mode=RGB size=224x149 at 0x7F03454EF890>"
                },
                "metadata": {},
                "output_type": "display_data"
              }
            ]
          }
        },
        "565b167395544a4c80ec84ff02153f85": {
          "model_module": "@jupyter-widgets/base",
          "model_module_version": "1.2.0",
          "model_name": "LayoutModel",
          "state": {
            "_model_module": "@jupyter-widgets/base",
            "_model_module_version": "1.2.0",
            "_model_name": "LayoutModel",
            "_view_count": null,
            "_view_module": "@jupyter-widgets/base",
            "_view_module_version": "1.2.0",
            "_view_name": "LayoutView",
            "align_content": null,
            "align_items": null,
            "align_self": null,
            "border": null,
            "bottom": null,
            "display": null,
            "flex": null,
            "flex_flow": null,
            "grid_area": null,
            "grid_auto_columns": null,
            "grid_auto_flow": null,
            "grid_auto_rows": null,
            "grid_column": null,
            "grid_gap": null,
            "grid_row": null,
            "grid_template_areas": null,
            "grid_template_columns": null,
            "grid_template_rows": null,
            "height": null,
            "justify_content": null,
            "justify_items": null,
            "left": null,
            "margin": null,
            "max_height": null,
            "max_width": null,
            "min_height": null,
            "min_width": null,
            "object_fit": null,
            "object_position": null,
            "order": null,
            "overflow": null,
            "overflow_x": null,
            "overflow_y": null,
            "padding": null,
            "right": null,
            "top": null,
            "visibility": null,
            "width": null
          }
        },
        "65652e27f29f49a38bec07b5bde7dc12": {
          "model_module": "@jupyter-widgets/base",
          "model_module_version": "1.2.0",
          "model_name": "LayoutModel",
          "state": {
            "_model_module": "@jupyter-widgets/base",
            "_model_module_version": "1.2.0",
            "_model_name": "LayoutModel",
            "_view_count": null,
            "_view_module": "@jupyter-widgets/base",
            "_view_module_version": "1.2.0",
            "_view_name": "LayoutView",
            "align_content": null,
            "align_items": null,
            "align_self": null,
            "border": null,
            "bottom": null,
            "display": null,
            "flex": null,
            "flex_flow": null,
            "grid_area": null,
            "grid_auto_columns": null,
            "grid_auto_flow": null,
            "grid_auto_rows": null,
            "grid_column": null,
            "grid_gap": null,
            "grid_row": null,
            "grid_template_areas": null,
            "grid_template_columns": null,
            "grid_template_rows": null,
            "height": null,
            "justify_content": null,
            "justify_items": null,
            "left": null,
            "margin": null,
            "max_height": null,
            "max_width": null,
            "min_height": null,
            "min_width": null,
            "object_fit": null,
            "object_position": null,
            "order": null,
            "overflow": null,
            "overflow_x": null,
            "overflow_y": null,
            "padding": null,
            "right": null,
            "top": null,
            "visibility": null,
            "width": null
          }
        },
        "831f65f840334da4a9e2b7a4f62acdfb": {
          "model_module": "@jupyter-widgets/base",
          "model_module_version": "1.2.0",
          "model_name": "LayoutModel",
          "state": {
            "_model_module": "@jupyter-widgets/base",
            "_model_module_version": "1.2.0",
            "_model_name": "LayoutModel",
            "_view_count": null,
            "_view_module": "@jupyter-widgets/base",
            "_view_module_version": "1.2.0",
            "_view_name": "LayoutView",
            "align_content": null,
            "align_items": null,
            "align_self": null,
            "border": null,
            "bottom": null,
            "display": null,
            "flex": null,
            "flex_flow": null,
            "grid_area": null,
            "grid_auto_columns": null,
            "grid_auto_flow": null,
            "grid_auto_rows": null,
            "grid_column": null,
            "grid_gap": null,
            "grid_row": null,
            "grid_template_areas": null,
            "grid_template_columns": null,
            "grid_template_rows": null,
            "height": null,
            "justify_content": null,
            "justify_items": null,
            "left": null,
            "margin": null,
            "max_height": null,
            "max_width": null,
            "min_height": null,
            "min_width": null,
            "object_fit": null,
            "object_position": null,
            "order": null,
            "overflow": null,
            "overflow_x": null,
            "overflow_y": null,
            "padding": null,
            "right": null,
            "top": null,
            "visibility": null,
            "width": null
          }
        },
        "8946dc73a300472d999272c3e11195f7": {
          "model_module": "@jupyter-widgets/base",
          "model_module_version": "1.2.0",
          "model_name": "LayoutModel",
          "state": {
            "_model_module": "@jupyter-widgets/base",
            "_model_module_version": "1.2.0",
            "_model_name": "LayoutModel",
            "_view_count": null,
            "_view_module": "@jupyter-widgets/base",
            "_view_module_version": "1.2.0",
            "_view_name": "LayoutView",
            "align_content": null,
            "align_items": null,
            "align_self": null,
            "border": null,
            "bottom": null,
            "display": null,
            "flex": null,
            "flex_flow": null,
            "grid_area": null,
            "grid_auto_columns": null,
            "grid_auto_flow": null,
            "grid_auto_rows": null,
            "grid_column": null,
            "grid_gap": null,
            "grid_row": null,
            "grid_template_areas": null,
            "grid_template_columns": null,
            "grid_template_rows": null,
            "height": null,
            "justify_content": null,
            "justify_items": null,
            "left": null,
            "margin": null,
            "max_height": null,
            "max_width": null,
            "min_height": null,
            "min_width": null,
            "object_fit": null,
            "object_position": null,
            "order": null,
            "overflow": null,
            "overflow_x": null,
            "overflow_y": null,
            "padding": null,
            "right": null,
            "top": null,
            "visibility": null,
            "width": null
          }
        },
        "8ad83b9ea4624786a14adf9ec4d40091": {
          "model_module": "@jupyter-widgets/base",
          "model_module_version": "1.2.0",
          "model_name": "LayoutModel",
          "state": {
            "_model_module": "@jupyter-widgets/base",
            "_model_module_version": "1.2.0",
            "_model_name": "LayoutModel",
            "_view_count": null,
            "_view_module": "@jupyter-widgets/base",
            "_view_module_version": "1.2.0",
            "_view_name": "LayoutView",
            "align_content": null,
            "align_items": null,
            "align_self": null,
            "border": null,
            "bottom": null,
            "display": null,
            "flex": null,
            "flex_flow": null,
            "grid_area": null,
            "grid_auto_columns": null,
            "grid_auto_flow": null,
            "grid_auto_rows": null,
            "grid_column": null,
            "grid_gap": null,
            "grid_row": null,
            "grid_template_areas": null,
            "grid_template_columns": null,
            "grid_template_rows": null,
            "height": null,
            "justify_content": null,
            "justify_items": null,
            "left": null,
            "margin": null,
            "max_height": null,
            "max_width": null,
            "min_height": null,
            "min_width": null,
            "object_fit": null,
            "object_position": null,
            "order": null,
            "overflow": null,
            "overflow_x": null,
            "overflow_y": null,
            "padding": null,
            "right": null,
            "top": null,
            "visibility": null,
            "width": null
          }
        },
        "981ad97b67894ace87f2c096146343ff": {
          "model_module": "@jupyter-widgets/controls",
          "model_module_version": "1.5.0",
          "model_name": "ButtonModel",
          "state": {
            "_dom_classes": [],
            "_model_module": "@jupyter-widgets/controls",
            "_model_module_version": "1.5.0",
            "_model_name": "ButtonModel",
            "_view_count": null,
            "_view_module": "@jupyter-widgets/controls",
            "_view_module_version": "1.5.0",
            "_view_name": "ButtonView",
            "button_style": "",
            "description": "Classify",
            "disabled": false,
            "icon": "",
            "layout": "IPY_MODEL_831f65f840334da4a9e2b7a4f62acdfb",
            "style": "IPY_MODEL_c9cff9cfec2a4daaa58637616b9a4927",
            "tooltip": ""
          }
        },
        "c9cff9cfec2a4daaa58637616b9a4927": {
          "model_module": "@jupyter-widgets/controls",
          "model_module_version": "1.5.0",
          "model_name": "ButtonStyleModel",
          "state": {
            "_model_module": "@jupyter-widgets/controls",
            "_model_module_version": "1.5.0",
            "_model_name": "ButtonStyleModel",
            "_view_count": null,
            "_view_module": "@jupyter-widgets/base",
            "_view_module_version": "1.2.0",
            "_view_name": "StyleView",
            "button_color": null,
            "font_weight": ""
          }
        },
        "cde46c86c6d64642bd865a7f582c700b": {
          "model_module": "@jupyter-widgets/controls",
          "model_module_version": "1.5.0",
          "model_name": "DescriptionStyleModel",
          "state": {
            "_model_module": "@jupyter-widgets/controls",
            "_model_module_version": "1.5.0",
            "_model_name": "DescriptionStyleModel",
            "_view_count": null,
            "_view_module": "@jupyter-widgets/base",
            "_view_module_version": "1.2.0",
            "_view_name": "StyleView",
            "description_width": ""
          }
        },
        "de2c33181c294ab08d9ad7edffa0239f": {
          "model_module": "@jupyter-widgets/base",
          "model_module_version": "1.2.0",
          "model_name": "LayoutModel",
          "state": {
            "_model_module": "@jupyter-widgets/base",
            "_model_module_version": "1.2.0",
            "_model_name": "LayoutModel",
            "_view_count": null,
            "_view_module": "@jupyter-widgets/base",
            "_view_module_version": "1.2.0",
            "_view_name": "LayoutView",
            "align_content": null,
            "align_items": null,
            "align_self": null,
            "border": null,
            "bottom": null,
            "display": null,
            "flex": null,
            "flex_flow": null,
            "grid_area": null,
            "grid_auto_columns": null,
            "grid_auto_flow": null,
            "grid_auto_rows": null,
            "grid_column": null,
            "grid_gap": null,
            "grid_row": null,
            "grid_template_areas": null,
            "grid_template_columns": null,
            "grid_template_rows": null,
            "height": null,
            "justify_content": null,
            "justify_items": null,
            "left": null,
            "margin": null,
            "max_height": null,
            "max_width": null,
            "min_height": null,
            "min_width": null,
            "object_fit": null,
            "object_position": null,
            "order": null,
            "overflow": null,
            "overflow_x": null,
            "overflow_y": null,
            "padding": null,
            "right": null,
            "top": null,
            "visibility": null,
            "width": null
          }
        },
        "e8675e38dd484afb9cc781197c7ac9aa": {
          "model_module": "@jupyter-widgets/controls",
          "model_module_version": "1.5.0",
          "model_name": "DescriptionStyleModel",
          "state": {
            "_model_module": "@jupyter-widgets/controls",
            "_model_module_version": "1.5.0",
            "_model_name": "DescriptionStyleModel",
            "_view_count": null,
            "_view_module": "@jupyter-widgets/base",
            "_view_module_version": "1.2.0",
            "_view_name": "StyleView",
            "description_width": ""
          }
        },
        "fe8e289d83b240f698782b4612b80df2": {
          "model_module": "@jupyter-widgets/controls",
          "model_module_version": "1.5.0",
          "model_name": "LabelModel",
          "state": {
            "_dom_classes": [],
            "_model_module": "@jupyter-widgets/controls",
            "_model_module_version": "1.5.0",
            "_model_name": "LabelModel",
            "_view_count": null,
            "_view_module": "@jupyter-widgets/controls",
            "_view_module_version": "1.5.0",
            "_view_name": "LabelView",
            "description": "",
            "description_tooltip": null,
            "layout": "IPY_MODEL_65652e27f29f49a38bec07b5bde7dc12",
            "placeholder": "​",
            "style": "IPY_MODEL_e8675e38dd484afb9cc781197c7ac9aa",
            "value": "Prediction: metallica; Probability:  0.9858"
          }
        }
      }
    }
  },
  "nbformat": 4,
  "nbformat_minor": 0
}
